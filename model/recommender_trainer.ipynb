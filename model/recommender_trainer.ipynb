{
 "cells": [
  {
   "cell_type": "code",
   "execution_count": 1,
   "metadata": {
    "collapsed": false
   },
   "outputs": [
    {
     "name": "stderr",
     "output_type": "stream",
     "text": [
      "/usr/local/lib/python2.7/dist-packages/matplotlib/font_manager.py:273: UserWarning: Matplotlib is building the font cache using fc-list. This may take a moment.\n",
      "  warnings.warn('Matplotlib is building the font cache using fc-list. This may take a moment.')\n"
     ]
    }
   ],
   "source": [
    "%matplotlib inline\n",
    "import scipy.io as sio\n",
    "import matplotlib.pyplot as plt \n",
    "import numpy as np \n",
    "from sklearn import cross_validation as cv\n",
    "import pandas as pd\n",
    "import cPickle as cp"
   ]
  },
  {
   "cell_type": "code",
   "execution_count": 2,
   "metadata": {
    "collapsed": false
   },
   "outputs": [
    {
     "name": "stdout",
     "output_type": "stream",
     "text": [
      "Number of users = 943 | Number of movies = 1682\n"
     ]
    }
   ],
   "source": [
    "header = ['user_id', 'item_id', 'rating', 'timestamp']\n",
    "df = pd.read_csv('./data/u.data', sep='\\t', names=header)\n",
    "n_users = df.user_id.unique().shape[0]\n",
    "n_items = df.item_id.unique().shape[0]\n",
    "print 'Number of users = ' + str(n_users) + ' | Number of movies = ' + str(n_items)"
   ]
  },
  {
   "cell_type": "code",
   "execution_count": 3,
   "metadata": {
    "collapsed": false
   },
   "outputs": [
    {
     "name": "stdout",
     "output_type": "stream",
     "text": [
      "   user_id  item_id  rating  timestamp\n",
      "0      196      242       3  881250949\n",
      "1      186      302       3  891717742\n",
      "2       22      377       1  878887116\n",
      "3      244       51       2  880606923\n",
      "4      166      346       1  886397596\n"
     ]
    }
   ],
   "source": [
    "train_data, test_data = cv.train_test_split(df,test_size=0.25)\n",
    "train_data = pd.DataFrame(train_data)\n",
    "test_data = pd.DataFrame(test_data)\n",
    "print df.head()"
   ]
  },
  {
   "cell_type": "code",
   "execution_count": 4,
   "metadata": {
    "collapsed": false
   },
   "outputs": [
    {
     "data": {
      "text/plain": [
       "\" Here both test, train matrices have same shapes.There are missing values in both(not rated movies by a particular user). \\n    Objective is used to predict the values of those movies.\\n    df.size < x.size  -> df only has movies and users 'with' ratings.\""
      ]
     },
     "execution_count": 4,
     "metadata": {},
     "output_type": "execute_result"
    }
   ],
   "source": [
    "\"\"\"Matrix for a user and all items.(train data)\"\"\"\n",
    "def data_fill(data,x):\n",
    "    for i in data.itertuples(): \n",
    "        x[i[1]-1,i[2]-1] = i[3]   #Filling the matrix from data frame.\n",
    "    return x\n",
    "\n",
    "rate_train = np.zeros((n_users,n_items))\n",
    "rate_test = np.zeros((n_users,n_items))\t\t#Similarly do for test data.\n",
    "\n",
    "rate_train = data_fill(train_data,rate_train)\n",
    "rate_test = data_fill(test_data,rate_test)     \n",
    "\"\"\" Here both test, train matrices have same shapes.There are missing values in both(not rated movies by a particular user). \n",
    "    Objective is used to predict the values of those movies.\n",
    "    df.size < x.size  -> df only has movies and users 'with' ratings.\"\"\""
   ]
  },
  {
   "cell_type": "code",
   "execution_count": 5,
   "metadata": {
    "collapsed": false
   },
   "outputs": [
    {
     "name": "stdout",
     "output_type": "stream",
     "text": [
      "epoch 1 =>  36.09695217 62.3612116339\n",
      "epoch 11 =>  25.8139327945 44.8891875876\n",
      "epoch 21 =>  25.2006121287 43.8817772669\n",
      "epoch 31 =>  23.9646312466 41.7694186861\n",
      "epoch 41 =>  22.752061154 39.6911017674\n",
      "epoch 51 =>  21.7371818926 37.9512559234\n",
      "epoch 61 =>  20.9262082678 36.5614599636\n",
      "epoch 71 =>  20.2834414636 35.460464826\n",
      "epoch 81 =>  19.7699336114 34.5813178356\n",
      "epoch 91 =>  19.3537881156 33.8691905215\n",
      "epoch 101 =>  19.0110424295 33.2829102723\n",
      "epoch 111 =>  18.72412454 32.792301413\n",
      "epoch 121 =>  18.4801646521 32.375276157\n",
      "epoch 131 =>  18.269676642 32.0155633411\n",
      "epoch 141 =>  18.085610477 31.7010769067\n",
      "epoch 151 =>  17.9226821169 31.4227627878\n",
      "epoch 161 =>  17.7768980173 31.1737811762\n",
      "epoch 171 =>  17.6452154774 30.9489227713\n",
      "epoch 181 =>  17.5252985464 30.744189516\n",
      "epoch 191 =>  17.415341408 30.5564914036\n",
      "epoch 201 =>  17.3139392585 30.3834249247\n",
      "epoch 211 =>  17.2199923681 30.2231085334\n",
      "epoch 221 =>  17.1326332374 30.0740577867\n",
      "epoch 231 =>  17.051169993 29.9350883887\n",
      "epoch 241 =>  16.9750416356 29.8052396094\n",
      "epoch 251 =>  16.9037825228 29.6837135814\n",
      "epoch 261 =>  16.8369946085 29.5698279247\n",
      "epoch 271 =>  16.7743265406 29.4629801331\n",
      "epoch 281 =>  16.715458868 29.3626224144\n",
      "epoch 291 =>  16.6600945056 29.2682454988\n",
      "epoch 301 =>  16.6079534218 29.1793696297\n",
      "epoch 311 =>  16.5587704036 29.0955407681\n",
      "epoch 321 =>  16.5122947764 29.0163300999\n",
      "epoch 331 =>  16.4682911236 28.9413352187\n",
      "epoch 341 =>  16.4265402909 28.8701817794\n",
      "epoch 351 =>  16.3868402258 28.8025248628\n",
      "epoch 361 =>  16.349006421 28.7380496689\n",
      "epoch 371 =>  16.3128718984 28.676471431\n",
      "epoch 381 =>  16.2782867648 28.6175346119\n",
      "epoch 391 =>  16.2451174235 28.5610115214\n",
      "epoch 401 =>  16.2132455379 28.5067005209\n",
      "epoch 411 =>  16.1825668379 28.4544239678\n",
      "epoch 421 =>  16.1529898456 28.404026028\n",
      "epoch 431 =>  16.1244345793 28.3553704569\n",
      "epoch 441 =>  16.0968312783 28.308338419\n",
      "epoch 451 =>  16.0701191783 28.2628263962\n",
      "epoch 461 =>  16.0442453569 28.2187442184\n",
      "epoch 471 =>  16.0191636612 28.1760132349\n",
      "epoch 481 =>  15.994833725 28.1345646388\n",
      "epoch 491 =>  15.9712200777 28.094337951\n",
      "epoch 501 =>  15.9482913479 28.0552796629\n",
      "epoch 511 =>  15.9260195594 28.0173420392\n",
      "epoch 521 =>  15.9043795174 27.9804820748\n",
      "epoch 531 =>  15.8833482831 27.9446606005\n",
      "epoch 541 =>  15.8629047297 27.9098415293\n",
      "epoch 551 =>  15.8430291755 27.8759912338\n",
      "epoch 561 =>  15.8237030876 27.8430780425\n",
      "epoch 571 =>  15.8049088477 27.8110718432\n",
      "epoch 581 =>  15.7866295731 27.779943779\n",
      "epoch 591 =>  15.7688489841 27.7496660243\n"
     ]
    },
    {
     "data": {
      "image/png": "[encoded data removed]",
      "text/plain": [
       "<matplotlib.figure.Figure at 0x7f7aecf2dfd0>"
      ]
     },
     "metadata": {},
     "output_type": "display_data"
    }
   ],
   "source": [
    "\"\"\"\n",
    "    If a rating is present (1-5), then mark that movie by that user as 1.\n",
    "    Else mark it as 0,indicating no rating.\n",
    "\"\"\" \n",
    "def get_indices(a):\n",
    "    k = a.copy()\n",
    "    k[k > 0] = 1\n",
    "    k[k == 0] = 1\n",
    "    return k\n",
    "\n",
    "def prediction(a,b):\n",
    "    return np.dot(a.T,b)\n",
    "\n",
    "def rms(ind,x,q,p):\n",
    "    return np.sqrt(abs(np.sum((ind * (x - prediction(p,q)))**2)/len(x[x > 0]))) # len(R[R>0]) consider only those having rating\n",
    "\n",
    "def grad_prediction(alpha,lamba,n_epochs,rate_train,rate_test):\n",
    "    m,n = rate_train.shape  #No of Users, Items\n",
    "    no_genres = 19 # No of genres\n",
    "    theta = 3* np.random.rand(no_genres,m) #user parameters\n",
    "    x = 3* np.random.rand(no_genres,n) #Features \n",
    "    \n",
    "    train_index = get_indices(rate_train)\n",
    "    test_index = get_indices(rate_test)\n",
    "    \n",
    "    train_error = []\n",
    "    test_error = []\n",
    "\n",
    "    users,items = rate_train.nonzero() #only for those having rating -> outputs the indices of non zero elements(row and collumn).\n",
    "    \n",
    "    for epoch in range(n_epochs):\n",
    "        if epoch %10 ==0:\n",
    "            print \"epoch \"+str(epoch+1)+\" => \",\n",
    "        for u,i in zip(users,items):\n",
    "            e = rate_train[u,i] - prediction(theta[:,u],x[:,i])\n",
    "            theta[:,u] += alpha *(e * x[:,i] -lamba *theta[:,u])\n",
    "            x[:,i] += alpha *(e * theta[:,u] - lamba * x[:,i])\n",
    "            \n",
    "        train_rms = rms(train_index,rate_train,x,theta)\n",
    "        test_rms = rms(test_index,rate_test,x,theta)\n",
    "        \n",
    "        train_error.append(train_rms)\n",
    "        test_error.append(test_rms)\n",
    "        if epoch %10 == 0:\n",
    "            print train_error[-1],test_error[-1]\n",
    "    \n",
    "    plt.plot(train_error,'r--',test_error,'b--')\n",
    "    plt.show()\n",
    "    return [prediction(theta,x),theta,x]\n",
    "\n",
    "res = grad_prediction(0.01,0.1,600,rate_train,rate_test) #Learning rate,reg_factor,n_epochs,train & test set."
   ]
  },
  {
   "cell_type": "code",
   "execution_count": 7,
   "metadata": {
    "collapsed": false
   },
   "outputs": [],
   "source": [
    "class mod():\n",
    "    def __init__(self,res):\n",
    "        self.pred = res[0]\n",
    "        self.user_para = res[1]\n",
    "        self.features = res[2]    \n",
    "\n",
    "model =  mod(res)\n",
    "with open('./data/model.pkl','wb') as g:\n",
    "    cp.dump(model,g)\n"
   ]
  },
  {
   "cell_type": "code",
   "execution_count": null,
   "metadata": {
    "collapsed": true
   },
   "outputs": [],
   "source": []
  }
 ],
 "metadata": {
  "celltoolbar": "Slideshow",
  "kernelspec": {
   "display_name": "Python 2",
   "language": "python",
   "name": "python2"
  },
  "language_info": {
   "codemirror_mode": {
    "name": "ipython",
    "version": 2
   },
   "file_extension": ".py",
   "mimetype": "text/x-python",
   "name": "python",
   "nbconvert_exporter": "python",
   "pygments_lexer": "ipython2",
   "version": "2.7.12"
  }
 },
 "nbformat": 4,
 "nbformat_minor": 0
}
